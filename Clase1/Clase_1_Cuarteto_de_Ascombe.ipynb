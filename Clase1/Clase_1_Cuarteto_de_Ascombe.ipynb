{
  "nbformat": 4,
  "nbformat_minor": 0,
  "metadata": {
    "colab": {
      "name": "Clase 1 - Cuarteto de Ascombe.ipynb",
      "provenance": [],
      "authorship_tag": "ABX9TyPgWeo0UbFlduxBvHATokpH",
      "include_colab_link": true
    },
    "kernelspec": {
      "name": "python3",
      "display_name": "Python 3"
    },
    "language_info": {
      "name": "python"
    }
  },
  "cells": [
    {
      "cell_type": "markdown",
      "metadata": {
        "id": "view-in-github",
        "colab_type": "text"
      },
      "source": [
        "<a href=\"https://colab.research.google.com/github/saavedramarcosdavid/Aprendizaje-de-Maquina/blob/main/Clase1/Clase_1_Cuarteto_de_Ascombe.ipynb\" target=\"_parent\"><img src=\"https://colab.research.google.com/assets/colab-badge.svg\" alt=\"Open In Colab\"/></a>"
      ]
    },
    {
      "cell_type": "markdown",
      "source": [
        "# Clase 1\n",
        "## Cuarteto de Ascombe\n",
        "\n",
        "Supongamos que tenemos cuatro nuevos datos ([16,8]; [8,6]; [16,10] y [16,6]) y\n",
        "sabemos que cada uno corresponde a un único dataset. Sin embargo, los\n",
        "parámetros estadísticos de los cuatro datasets son idénticos. Cómo\n",
        "determinar entonces a qué dataset corresponde cada punto?"
      ],
      "metadata": {
        "id": "xxC69qyM7N8o"
      }
    },
    {
      "cell_type": "code",
      "execution_count": 1,
      "metadata": {
        "colab": {
          "base_uri": "https://localhost:8080/"
        },
        "id": "CFZZ_yLn5lqL",
        "outputId": "bc2fdf0a-e882-486d-88b8-1afff1971c28"
      },
      "outputs": [
        {
          "output_type": "stream",
          "name": "stdout",
          "text": [
            "Clase 1\n"
          ]
        }
      ],
      "source": [
        "print(\"Clase 1\")"
      ]
    },
    {
      "cell_type": "code",
      "source": [
        ""
      ],
      "metadata": {
        "id": "Tm3Pv2Ok7M1-"
      },
      "execution_count": null,
      "outputs": []
    }
  ]
}